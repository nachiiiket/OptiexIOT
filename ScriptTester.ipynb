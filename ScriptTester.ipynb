{
  "nbformat": 4,
  "nbformat_minor": 0,
  "metadata": {
    "colab": {
      "provenance": [],
      "authorship_tag": "ABX9TyNCSd0U5H1YqfA81evO2VhY",
      "include_colab_link": true
    },
    "kernelspec": {
      "name": "python3",
      "display_name": "Python 3"
    },
    "language_info": {
      "name": "python"
    }
  },
  "cells": [
    {
      "cell_type": "markdown",
      "metadata": {
        "id": "view-in-github",
        "colab_type": "text"
      },
      "source": [
        "<a href=\"https://colab.research.google.com/github/nachiiiket/OptiexIOT/blob/main/ScriptTester.ipynb\" target=\"_parent\"><img src=\"https://colab.research.google.com/assets/colab-badge.svg\" alt=\"Open In Colab\"/></a>"
      ]
    },
    {
      "cell_type": "code",
      "execution_count": null,
      "metadata": {
        "id": "fl79ZGp-hQPf"
      },
      "outputs": [],
      "source": [
        "import pandas as pd\n",
        "import random\n",
        "\n",
        "# Input and Output files\n",
        "input_file = \"/content/test_sensor_data_1M.csv\"\n",
        "output_file = \"test_sensor_data_1M_with_faulty.csv\"\n",
        "\n",
        "# Load the data\n",
        "df = pd.read_csv(input_file)\n",
        "\n",
        "# Total rows\n",
        "n = len(df)\n",
        "\n",
        "# Process in blocks of 10,000 rows\n",
        "block_size = 10000\n",
        "max_faulty_per_block = 100\n",
        "\n",
        "for start in range(0, n, block_size):\n",
        "    end = min(start + block_size, n)\n",
        "    block_indices = list(range(start, end))\n",
        "\n",
        "    # Randomly choose how many faulty values to inject (up to 100)\n",
        "    num_faulty = random.randint(1, max_faulty_per_block)\n",
        "\n",
        "    # Pick random positions within the block\n",
        "    faulty_positions = random.sample(block_indices, num_faulty)\n",
        "\n",
        "    for pos in faulty_positions:\n",
        "        # Randomly decide if it's single zero or consecutive zeros\n",
        "        if random.random() < 0.3:  # 30% chance to insert consecutive zeros\n",
        "            run_length = random.randint(2, 5)  # 2 to 5 consecutive zeros\n",
        "            for j in range(pos, min(pos + run_length, end)):\n",
        "                df.at[j, \"Value\"] = 0\n",
        "        else:\n",
        "            df.at[pos, \"Value\"] = 0\n",
        "\n",
        "# Save new CSV\n",
        "df.to_csv(output_file, index=False)\n",
        "\n",
        "print(f\"✅ New dataset with faulty values saved to {output_file}\")\n"
      ]
    },
    {
      "cell_type": "code",
      "source": [
        "import pandas as pd\n",
        "import random\n",
        "\n",
        "# Input and Output files\n",
        "input_file = \"test_sensor_data_1M.csv\"\n",
        "output_faulty = \"test_sensor_data_1M_with_faulty.csv\"\n",
        "output_expected = \"expected_output_1M.csv\"\n",
        "\n",
        "# Load data\n",
        "df = pd.read_csv(input_file)\n",
        "\n",
        "n = len(df)\n",
        "block_size = 10000\n",
        "max_faulty_per_block = 100\n",
        "\n",
        "# --- STEP 1: Insert random faulty zeros ---\n",
        "for start in range(0, n, block_size):\n",
        "    end = min(start + block_size, n)\n",
        "    block_indices = list(range(start, end))\n",
        "    num_faulty = random.randint(1, max_faulty_per_block)\n",
        "    faulty_positions = random.sample(block_indices, num_faulty)\n",
        "\n",
        "    for pos in faulty_positions:\n",
        "        if random.random() < 0.45:  # 30% chance to insert consecutive zeros\n",
        "            run_length = random.randint(2, 5)\n",
        "            for j in range(pos, min(pos + run_length, end)):\n",
        "                df.at[j, \"Value\"] = 0\n",
        "        else:\n",
        "            df.at[pos, \"Value\"] = 0\n",
        "\n",
        "# Save dataset with faulty values\n",
        "df.to_csv(output_faulty, index=False)\n",
        "\n",
        "# --- STEP 2: Generate Expected Output ---\n",
        "df_expected = df.copy()\n",
        "df_expected[\"Condition\"] = \"Normal\"\n",
        "\n",
        "for i in range(1, len(df_expected)):\n",
        "    prev_val = df_expected.at[i-1, \"Value\"]\n",
        "    curr_val = df_expected.at[i, \"Value\"]\n",
        "\n",
        "    # Faulty Sensor → Zero values\n",
        "    if curr_val == 0:\n",
        "        df_expected.at[i, \"Condition\"] = \"Faulty Sensor\"\n",
        "        continue\n",
        "\n",
        "    # Reset Condition → Previous drop to very low then start increasing/stabilizing\n",
        "    if prev_val > curr_val and i+1 < len(df_expected):\n",
        "        next_val = df_expected.at[i+1, \"Value\"]\n",
        "        if next_val >= curr_val:\n",
        "            df_expected.at[i, \"Condition\"] = \"Reset\"\n",
        "            continue\n",
        "\n",
        "    # Negative Difference → Drop but not a reset\n",
        "    if curr_val < prev_val:\n",
        "        df_expected.at[i, \"Condition\"] = \"Negative Difference\"\n",
        "\n",
        "# Save expected output\n",
        "df_expected.to_csv(output_expected, index=False)\n",
        "\n",
        "print(f\"✅ Created {output_faulty} and {output_expected}\")\n"
      ],
      "metadata": {
        "colab": {
          "base_uri": "https://localhost:8080/"
        },
        "id": "Mqz8ZQK8iSbr",
        "outputId": "829535ea-b4f6-4b67-8c11-d452748ef5aa"
      },
      "execution_count": 2,
      "outputs": [
        {
          "output_type": "stream",
          "name": "stdout",
          "text": [
            "✅ Created test_sensor_data_1M_with_faulty.csv and expected_output_1M.csv\n"
          ]
        }
      ]
    },
    {
      "cell_type": "code",
      "source": [],
      "metadata": {
        "id": "gWq-8ueciSWU"
      },
      "execution_count": null,
      "outputs": []
    }
  ]
}